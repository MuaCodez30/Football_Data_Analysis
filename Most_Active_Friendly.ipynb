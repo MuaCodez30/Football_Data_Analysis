{
  "cells": [
    {
      "cell_type": "code",
      "execution_count": 1,
      "metadata": {
        "id": "NJEm9GEObc-5"
      },
      "outputs": [],
      "source": [
        "import pandas as pd\n"
      ]
    },
    {
      "cell_type": "code",
      "execution_count": 2,
      "metadata": {
        "id": "fQCYZ_O_bovT"
      },
      "outputs": [],
      "source": [
        "results = pd.read_csv(\"results.csv\")\n"
      ]
    },
    {
      "cell_type": "code",
      "execution_count": 3,
      "metadata": {
        "id": "3693O-IsbsJ3"
      },
      "outputs": [],
      "source": [
        "friendly_matches = results[results['tournament'] == 'Friendly']\n"
      ]
    },
    {
      "cell_type": "code",
      "execution_count": 5,
      "metadata": {
        "id": "R97cZSfibtJN"
      },
      "outputs": [],
      "source": [
        "friendly_teams = pd.concat([friendly_matches['home_team'], friendly_matches['away_team']], ignore_index=True)\n"
      ]
    },
    {
      "cell_type": "code",
      "execution_count": 6,
      "metadata": {
        "id": "JphKG8yybvZ4"
      },
      "outputs": [],
      "source": [
        "friendly_teams_count = friendly_teams.value_counts()\n"
      ]
    },
    {
      "cell_type": "code",
      "execution_count": 7,
      "metadata": {
        "colab": {
          "base_uri": "https://localhost:8080/"
        },
        "id": "RkulTr5_cCc7",
        "outputId": "ec2c4abe-acca-40ab-9632-7c3cb17f2d4e"
      },
      "outputs": [
        {
          "name": "stdout",
          "output_type": "stream",
          "text": [
            "Teams with the most friendly matches:\n",
            "Germany    588\n",
            "Hungary    575\n",
            "Sweden     550\n",
            "Poland     533\n",
            "France     494\n",
            "Name: count, dtype: int64\n"
          ]
        }
      ],
      "source": [
        "print(\"Teams with the most friendly matches:\")\n",
        "print(friendly_teams_count.head())"
      ]
    }
  ],
  "metadata": {
    "colab": {
      "provenance": []
    },
    "kernelspec": {
      "display_name": "Python 3",
      "language": "python",
      "name": "python3"
    },
    "language_info": {
      "name": "python",
      "version": "3.12.1 (v3.12.1:2305ca5144, Dec  7 2023, 17:23:38) [Clang 13.0.0 (clang-1300.0.29.30)]"
    },
    "vscode": {
      "interpreter": {
        "hash": "aee8b7b246df8f9039afb4144a1f6fd8d2ca17a180786b69acc140d282b71a49"
      }
    }
  },
  "nbformat": 4,
  "nbformat_minor": 0
}
