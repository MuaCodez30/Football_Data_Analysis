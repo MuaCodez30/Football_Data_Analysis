{
  "nbformat": 4,
  "nbformat_minor": 0,
  "metadata": {
    "colab": {
      "provenance": []
    },
    "kernelspec": {
      "name": "python3",
      "display_name": "Python 3"
    },
    "language_info": {
      "name": "python"
    }
  },
  "cells": [
    {
      "cell_type": "code",
      "execution_count": 1,
      "metadata": {
        "id": "pSD3nuMJfSIV"
      },
      "outputs": [],
      "source": [
        "import pandas as pd\n"
      ]
    },
    {
      "cell_type": "code",
      "source": [
        "shootouts_df = pd.read_csv(\"shootouts.csv\")\n"
      ],
      "metadata": {
        "id": "ZZYSyfoZfVk5"
      },
      "execution_count": 2,
      "outputs": []
    },
    {
      "cell_type": "code",
      "source": [
        "penalty_shootouts_df = shootouts_df[shootouts_df['winner'] != '']\n"
      ],
      "metadata": {
        "id": "s_HrCWvRfW1b"
      },
      "execution_count": 3,
      "outputs": []
    },
    {
      "cell_type": "code",
      "source": [
        "penalty_shootout_wins = penalty_shootouts_df['winner'].value_counts()\n"
      ],
      "metadata": {
        "id": "ZBRuqmr-fX0t"
      },
      "execution_count": 4,
      "outputs": []
    },
    {
      "cell_type": "code",
      "source": [
        "total_penalties = penalty_shootout_wins.sum()\n"
      ],
      "metadata": {
        "id": "34wgXw4UfZfG"
      },
      "execution_count": 7,
      "outputs": []
    },
    {
      "cell_type": "code",
      "source": [
        "success_rate = penalty_shootout_wins / total_penalties\n"
      ],
      "metadata": {
        "id": "0wU3-YKefbCI"
      },
      "execution_count": 8,
      "outputs": []
    },
    {
      "cell_type": "code",
      "source": [
        "sorted_teams = success_rate.sort_values(ascending=False)\n"
      ],
      "metadata": {
        "id": "rhlpRgoMfiXp"
      },
      "execution_count": 9,
      "outputs": []
    },
    {
      "cell_type": "code",
      "source": [
        "print(\"Teams Ranked by Success Rate in Penalty Shootouts:\")\n",
        "print(sorted_teams)"
      ],
      "metadata": {
        "colab": {
          "base_uri": "https://localhost:8080/"
        },
        "id": "Dl6H1Kj6fir2",
        "outputId": "8f847e7b-a2e0-48fc-cc1d-7e97d243c25b"
      },
      "execution_count": 13,
      "outputs": [
        {
          "output_type": "stream",
          "name": "stdout",
          "text": [
            "Teams Ranked by Success Rate in Penalty Shootouts:\n",
            "winner\n",
            "South Korea     0.024194\n",
            "Argentina       0.022581\n",
            "Zambia          0.022581\n",
            "South Africa    0.020968\n",
            "Egypt           0.020968\n",
            "                  ...   \n",
            "Jamaica         0.001613\n",
            "Sri Lanka       0.001613\n",
            "Romania         0.001613\n",
            "Hungary         0.001613\n",
            "Anguilla        0.001613\n",
            "Name: count, Length: 173, dtype: float64\n"
          ]
        }
      ]
    }
  ]
}