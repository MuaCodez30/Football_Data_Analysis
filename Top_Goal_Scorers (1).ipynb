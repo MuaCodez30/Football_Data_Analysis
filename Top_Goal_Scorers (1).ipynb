{
  "nbformat": 4,
  "nbformat_minor": 0,
  "metadata": {
    "colab": {
      "provenance": []
    },
    "kernelspec": {
      "name": "python3",
      "display_name": "Python 3"
    },
    "language_info": {
      "name": "python"
    }
  },
  "cells": [
    {
      "cell_type": "code",
      "execution_count": 2,
      "metadata": {
        "id": "GEUel6QZdC35"
      },
      "outputs": [],
      "source": [
        "import pandas as pd\n"
      ]
    },
    {
      "cell_type": "code",
      "source": [
        "goalscorers_df = pd.read_csv(\"goalscorers.csv\")\n"
      ],
      "metadata": {
        "id": "CC08J8RNdS-B"
      },
      "execution_count": 6,
      "outputs": []
    },
    {
      "cell_type": "code",
      "source": [
        "goals_count = goalscorers_df['scorer'].value_counts()\n",
        "\n"
      ],
      "metadata": {
        "id": "j2Qd5YoVdTVP"
      },
      "execution_count": 8,
      "outputs": []
    },
    {
      "cell_type": "code",
      "source": [
        "top_goal_scorers = goals_count.head(10)"
      ],
      "metadata": {
        "id": "336hfGbGer0s"
      },
      "execution_count": 9,
      "outputs": []
    },
    {
      "cell_type": "code",
      "source": [
        "print(\"Top Goal Scorers:\")\n",
        "print(top_goal_scorers)"
      ],
      "metadata": {
        "colab": {
          "base_uri": "https://localhost:8080/"
        },
        "id": "0sBQzKP8evfi",
        "outputId": "43d22cd9-4ac4-498e-e832-58c74ee6c52e"
      },
      "execution_count": 10,
      "outputs": [
        {
          "output_type": "stream",
          "name": "stdout",
          "text": [
            "Top Goal Scorers:\n",
            "scorer\n",
            "Cristiano Ronaldo      111\n",
            "Robert Lewandowski      62\n",
            "Romelu Lukaku           61\n",
            "Harry Kane              55\n",
            "Lionel Messi            54\n",
            "Edin Džeko              50\n",
            "Ali Daei                49\n",
            "Miroslav Klose          48\n",
            "Aleksandar Mitrović     47\n",
            "Carlos Ruiz             47\n",
            "Name: count, dtype: int64\n"
          ]
        }
      ]
    }
  ]
}